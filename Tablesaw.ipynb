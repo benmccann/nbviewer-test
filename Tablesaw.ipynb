{
 "cells": [
  {
   "cell_type": "markdown",
   "metadata": {},
   "source": [
    "# Tablesaw \n",
    "\n",
    "[Tablesaw](https://tablesaw.tech/) provides the ability to easily transform, summarize, and filter data, as well as computing descriptive statistics. It can also be used easily with libraries like Smile, which provides fundamental machine learning algorithms.\n",
    "\n",
    "This notebook has some basic demos of how to use Tablesaw, including visualizing the results for which it uses the BeakerX interactive visualization APIs. Tablesaw also provides its own visualization APIs if you wish to do visualization outside of BeakerX. The notebook covers basic table manipulation, k-means clustering, linear regression, and fetching financial data."
   ]
  },
  {
   "cell_type": "code",
   "execution_count": 39,
   "metadata": {},
   "outputs": [
    {
     "data": {
      "application/vnd.jupyter.widget-view+json": {
       "model_id": "84dcb868-a860-4da5-b4f8-19de9a8c486c",
       "version_major": 2,
       "version_minor": 0
      },
      "method": "display_data"
     },
     "metadata": {},
     "output_type": "display_data"
    }
   ],
   "source": [
    "%%classpath add mvn\n",
    "tech.tablesaw tablesaw-beakerx 0.30.3\n",
    "com.jimmoores quandl-tablesaw 2.0.0\n",
    "com.github.haifengl smile-core 1.5.2"
   ]
  },
  {
   "cell_type": "code",
   "execution_count": 40,
   "metadata": {},
   "outputs": [
    {
     "data": {
      "text/plain": [
       "null"
      ]
     },
     "execution_count": 40,
     "metadata": {},
     "output_type": "execute_result"
    }
   ],
   "source": [
    "%import static tech.tablesaw.aggregate.AggregateFunctions.*\n",
    "%import tech.tablesaw.api.*\n",
    "%import tech.tablesaw.columns.*\n",
    "%import smile.clustering.*\n",
    "%import smile.regression.*\n",
    "\n",
    "// display Tablesaw tables with BeakerX table display widget\n",
    "tech.tablesaw.beakerx.TablesawDisplayer.register()"
   ]
  },
  {
   "cell_type": "code",
   "execution_count": 41,
   "metadata": {},
   "outputs": [
    {
     "data": {
      "application/vnd.jupyter.widget-view+json": {
       "model_id": "3e8eee7e-0c96-4ab4-896c-5ffa2fb83dfa",
       "version_major": 2,
       "version_minor": 0
      },
      "method": "display_data"
     },
     "metadata": {},
     "output_type": "display_data"
    }
   ],
   "source": [
    "tornadoes = Table.read().csv(\"./data/tornadoes_2014.csv\")"
   ]
  },
  {
   "cell_type": "code",
   "execution_count": 42,
   "metadata": {},
   "outputs": [
    {
     "data": {
      "application/vnd.jupyter.widget-view+json": {
       "model_id": "ec23b636-9ca1-42d4-ba0b-a04b993329b0",
       "version_major": 2,
       "version_minor": 0
      },
      "method": "display_data"
     },
     "metadata": {},
     "output_type": "display_data"
    }
   ],
   "source": [
    "//print dataset structure\n",
    "tornadoes.structure()"
   ]
  },
  {
   "cell_type": "code",
   "execution_count": 43,
   "metadata": {},
   "outputs": [
    {
     "data": {
      "text/plain": [
       "[Date, Time, State, State No, Scale, Injuries, Fatalities, Start Lat, Start Lon, Length, Width]"
      ]
     },
     "execution_count": 43,
     "metadata": {},
     "output_type": "execute_result"
    }
   ],
   "source": [
    "//get header names\n",
    "tornadoes.columnNames()"
   ]
  },
  {
   "cell_type": "code",
   "execution_count": 44,
   "metadata": {},
   "outputs": [
    {
     "data": {
      "text/plain": [
       "908 rows X 11 cols"
      ]
     },
     "execution_count": 44,
     "metadata": {},
     "output_type": "execute_result"
    }
   ],
   "source": [
    "//displays the row and column counts\n",
    "tornadoes.shape()"
   ]
  },
  {
   "cell_type": "code",
   "execution_count": 45,
   "metadata": {},
   "outputs": [
    {
     "data": {
      "application/vnd.jupyter.widget-view+json": {
       "model_id": "2172745b-2018-439e-94ad-70b5b0cc9fa0",
       "version_major": 2,
       "version_minor": 0
      },
      "method": "display_data"
     },
     "metadata": {},
     "output_type": "display_data"
    }
   ],
   "source": [
    "//displays the first n rows\n",
    "tornadoes.first(10)"
   ]
  },
  {
   "cell_type": "code",
   "execution_count": 46,
   "metadata": {},
   "outputs": [
    {
     "data": {
      "application/vnd.jupyter.widget-view+json": {
       "model_id": "6655f891-b612-4be3-b34c-478d9f31bda2",
       "version_major": 2,
       "version_minor": 0
      },
      "method": "display_data"
     },
     "metadata": {},
     "output_type": "display_data"
    }
   ],
   "source": [
    "tornadoes.structure()"
   ]
  },
  {
   "cell_type": "code",
   "execution_count": 47,
   "metadata": {},
   "outputs": [
    {
     "data": {
      "text/plain": [
       "\n",
       "Table summary for: tornadoes_2014.csv\n",
       "       Column: Date        \n",
       " Measure   |    Value     |\n",
       "---------------------------\n",
       "    Count  |         908  |\n",
       "  Missing  |           0  |\n",
       " Earliest  |  2014-01-11  |\n",
       "   Latest  |  2014-12-29  |\n",
       "     Column: Time     \n",
       " Measure   |  Value  |\n",
       "----------------------\n",
       "    Count  |    908  |\n",
       "  Missing  |      0  |\n",
       " Earliest  |  00:01  |\n",
       "   Latest  |  23:59  |\n",
       "    Column: State     \n",
       " Category  |  Count  |\n",
       "----------------------\n",
       "       WY  |     13  |\n",
       "       PA  |      9  |\n",
       "       OK  |     17  |\n",
       "       IA  |     56  |\n",
       "       SC  |      7  |\n",
       "       AL  |     55  |\n",
       "       LA  |     15  |\n",
       "       NM  |     15  |\n",
       "       DE  |      1  |\n",
       "       MD  |      2  |\n",
       "      ...  |    ...  |\n",
       "       WV  |      9  |\n",
       "       MS  |     42  |\n",
       "       WI  |     22  |\n",
       "       MO  |     47  |\n",
       "       IN  |     28  |\n",
       "       NH  |      2  |\n",
       "       GA  |     32  |\n",
       "       IL  |     49  |\n",
       "       VA  |     12  |\n",
       "   Column: State No   \n",
       " Measure   |  Value  |\n",
       "----------------------\n",
       "        n  |  908.0  |\n",
       "      sum  |    0.0  |\n",
       "     Mean  |    0.0  |\n",
       "      Min  |    0.0  |\n",
       "      Max  |    0.0  |\n",
       "    Range  |    0.0  |\n",
       " Variance  |    0.0  |\n",
       " Std. Dev  |    0.0  |\n",
       "           Column: Scale           \n",
       " Measure   |        Value         |\n",
       "-----------------------------------\n",
       "        n  |               908.0  |\n",
       "      sum  |               567.0  |\n",
       "     Mean  |  0.6244493392070485  |\n",
       "      Min  |                 0.0  |\n",
       "      Max  |                 4.0  |\n",
       "    Range  |                 4.0  |\n",
       " Variance  |   0.627273676592727  |\n",
       " Std. Dev  |  0.7920061089364949  |\n",
       "         Column: Injuries          \n",
       " Measure   |        Value         |\n",
       "-----------------------------------\n",
       "        n  |               908.0  |\n",
       "      sum  |               684.0  |\n",
       "     Mean  |  0.7533039647577101  |\n",
       "      Min  |                 0.0  |\n",
       "      Max  |               193.0  |\n",
       "    Range  |               193.0  |\n",
       " Variance  |  57.681080582255504  |\n",
       " Std. Dev  |    7.59480615830684  |\n",
       "         Column: Fatalities         \n",
       " Measure   |         Value         |\n",
       "------------------------------------\n",
       "        n  |                908.0  |\n",
       "      sum  |                 48.0  |\n",
       "     Mean  |  0.05286343612334797  |\n",
       "      Min  |                  0.0  |\n",
       "      Max  |                 16.0  |\n",
       "    Range  |                 16.0  |\n",
       " Variance  |   0.4426268523330529  |\n",
       " Std. Dev  |   0.6653020760023621  |\n",
       "         Column: Start Lat         \n",
       " Measure   |        Value         |\n",
       "-----------------------------------\n",
       "        n  |               908.0  |\n",
       "      sum  |   34690.98258972168  |\n",
       "     Mean  |   38.20592796224854  |\n",
       "      Min  |                 0.0  |\n",
       "      Max  |   48.86000061035156  |\n",
       "    Range  |   48.86000061035156  |\n",
       " Variance  |  22.448585994628317  |\n",
       " Std. Dev  |   4.737993878703128  |\n",
       "         Column: Start Lon          \n",
       " Measure   |         Value         |\n",
       "------------------------------------\n",
       "        n  |                908.0  |\n",
       "      sum  |   -83613.02507019043  |\n",
       "     Mean  |   -92.08482937245637  |\n",
       "      Min  |  -122.94599914550781  |\n",
       "      Max  |                  0.0  |\n",
       "    Range  |   122.94599914550781  |\n",
       " Variance  |    91.84773412048186  |\n",
       " Std. Dev  |    9.583722352013432  |\n",
       "          Column: Length           \n",
       " Measure   |        Value         |\n",
       "-----------------------------------\n",
       "        n  |               908.0  |\n",
       "      sum  |  3014.4899884629995  |\n",
       "     Mean  |   3.319922894783035  |\n",
       "      Min  |                 0.0  |\n",
       "      Max  |   45.68000030517578  |\n",
       "    Range  |   45.68000030517578  |\n",
       " Variance  |  28.736565641309202  |\n",
       " Std. Dev  |   5.360649740592011  |\n",
       "           Column: Width           \n",
       " Measure   |        Value         |\n",
       "-----------------------------------\n",
       "        n  |               908.0  |\n",
       "      sum  |            149778.0  |\n",
       "     Mean  |  164.95374449339195  |\n",
       "      Min  |                 0.0  |\n",
       "      Max  |              2640.0  |\n",
       "    Range  |              2640.0  |\n",
       " Variance  |  57764.463128190386  |\n",
       " Std. Dev  |  240.34238728986276  |\n",
       "\n"
      ]
     },
     "execution_count": 47,
     "metadata": {},
     "output_type": "execute_result"
    }
   ],
   "source": [
    "//summarize the data in each column\n",
    "tornadoes.summary()"
   ]
  },
  {
   "cell_type": "code",
   "execution_count": 48,
   "metadata": {},
   "outputs": [
    {
     "data": {
      "text/plain": [
       "[Date, Time, State, State No, Scale, Injuries, Fatalities, Start Lat, Start Lon, Length, Width, Date month]"
      ]
     },
     "execution_count": 48,
     "metadata": {},
     "output_type": "execute_result"
    }
   ],
   "source": [
    "//Mapping operations\n",
    "def month = tornadoes.dateColumn(\"Date\").month()\n",
    "tornadoes.addColumns(month);\n",
    "tornadoes.columnNames()"
   ]
  },
  {
   "cell_type": "code",
   "execution_count": 49,
   "metadata": {},
   "outputs": [
    {
     "data": {
      "application/vnd.jupyter.widget-view+json": {
       "model_id": "fa7685a9-40c5-4237-bc0c-006da394915d",
       "version_major": 2,
       "version_minor": 0
      },
      "method": "display_data"
     },
     "metadata": {},
     "output_type": "display_data"
    }
   ],
   "source": [
    "//Sorting by column\n",
    "tornadoes.sortOn(\"-Fatalities\")"
   ]
  },
  {
   "cell_type": "code",
   "execution_count": 50,
   "metadata": {},
   "outputs": [
    {
     "data": {
      "application/vnd.jupyter.widget-view+json": {
       "model_id": "676e8aaf-787d-45af-bd2a-73f39fecdcb0",
       "version_major": 2,
       "version_minor": 0
      },
      "method": "display_data"
     },
     "metadata": {},
     "output_type": "display_data"
    }
   ],
   "source": [
    "//Descriptive statistics\n",
    "tornadoes.column(\"Fatalities\").summary()"
   ]
  },
  {
   "cell_type": "code",
   "execution_count": 51,
   "metadata": {},
   "outputs": [
    {
     "data": {
      "application/vnd.jupyter.widget-view+json": {
       "model_id": "a4522ac7-aa44-49d9-829e-1c4f521a949b",
       "version_major": 2,
       "version_minor": 0
      },
      "method": "display_data"
     },
     "metadata": {},
     "output_type": "display_data"
    }
   ],
   "source": [
    "//Performing totals and sub-totals\n",
    "def injuriesByScale = tornadoes.summarize(\"Injuries\", median).by(\"Scale\")\n",
    "injuriesByScale.setName(\"Median injuries by Tornado Scale\")\n",
    "injuriesByScale"
   ]
  },
  {
   "cell_type": "code",
   "execution_count": 52,
   "metadata": {},
   "outputs": [
    {
     "data": {
      "application/vnd.jupyter.widget-view+json": {
       "model_id": "4a65abff-269b-4cb8-a533-17310b145c28",
       "version_major": 2,
       "version_minor": 0
      },
      "method": "display_data"
     },
     "metadata": {},
     "output_type": "display_data"
    }
   ],
   "source": [
    "//Cross Tabs\n",
    "tornadoes.xTabCounts(\"State\", \"Scale\")"
   ]
  },
  {
   "cell_type": "markdown",
   "metadata": {},
   "source": [
    "## K-means clustering\n",
    "\n",
    "K-means is the most common form of “centroid” clustering. Unlike classification, clustering is an unsupervised learning method. The categories are not predetermined. Instead, the goal is to search for natural groupings in the dataset, such that the members of each group are similar to each other and different from the members of the other groups. The K represents the number of groups to find.\n",
    "\n",
    "We’ll use a well known Scotch Whiskey dataset, which is used to cluster whiskeys according to their taste based on data collected from tasting notes. As always, we start by loading data and printing its structure."
   ]
  },
  {
   "cell_type": "code",
   "execution_count": 53,
   "metadata": {},
   "outputs": [
    {
     "data": {
      "application/vnd.jupyter.widget-view+json": {
       "model_id": "efb46a37-f94c-4420-8e40-98989dd9347f",
       "version_major": 2,
       "version_minor": 0
      },
      "method": "display_data"
     },
     "metadata": {},
     "output_type": "display_data"
    }
   ],
   "source": [
    "whiskeyData = Table.read().csv(\"./data/whiskey.csv\")\n",
    "whiskeyData.structure()"
   ]
  },
  {
   "cell_type": "code",
   "execution_count": 54,
   "metadata": {},
   "outputs": [
    {
     "data": {
      "text/plain": [
       "K-Means distortion: 387.52701\n",
       "Clusters of 86 data points of dimension 12:\n",
       "  0\t   24 (27.9%)\n",
       "  1\t   16 (18.6%)\n",
       "  2\t   23 (26.7%)\n",
       "  3\t    6 ( 7.0%)\n",
       "  4\t   17 (19.8%)\n"
      ]
     },
     "execution_count": 54,
     "metadata": {},
     "output_type": "execute_result"
    }
   ],
   "source": [
    "kMeans = new KMeans(whiskeyData.as().doubleMatrix(\"Body\", \"Sweetness\", \"Smoky\", \"Medicinal\", \"Tobacco\", \"Honey\", \"Spicy\", \"Winey\", \"Nutty\", \"Malty\", \"Fruity\", \"Floral\"), 5)"
   ]
  },
  {
   "cell_type": "code",
   "execution_count": 55,
   "metadata": {},
   "outputs": [
    {
     "data": {
      "application/vnd.jupyter.widget-view+json": {
       "model_id": "301a00e0-0871-473f-abdc-9c44ae1e83b5",
       "version_major": 2,
       "version_minor": 0
      },
      "method": "display_data"
     },
     "metadata": {},
     "output_type": "display_data"
    }
   ],
   "source": [
    "Table whiskeyClusters = Table.create(\"Clusters\", whiskeyData.stringColumn(\"Distillery\"), DoubleColumn.create(\"Cluster\", kMeans.getClusterLabel()));\n",
    "whiskeyClusters = whiskeyClusters.sortAscendingOn(\"Cluster\", \"Distillery\");"
   ]
  },
  {
   "cell_type": "markdown",
   "metadata": {},
   "source": [
    "## Play (Money)ball with Linear Regression\n",
    "\n",
    "In baseball, you make the playoffs by winning more games than your rivals. The number of games the rivals win is out of your control so the A’s looked instead at how many wins it took historically to make the playoffs. They decided that 95 wins would give them a strong chance.  Here’s how we might check that assumption in Tablesaw."
   ]
  },
  {
   "cell_type": "code",
   "execution_count": 65,
   "metadata": {},
   "outputs": [
    {
     "data": {
      "application/vnd.jupyter.widget-view+json": {
       "model_id": "b78b119c-8720-4187-b43c-46a03722d3b6",
       "version_major": 2,
       "version_minor": 0
      },
      "method": "display_data"
     },
     "metadata": {},
     "output_type": "display_data"
    }
   ],
   "source": [
    "baseball = Table.read().csv(\"./data/baseball.csv\");\n",
    "\n",
    "// filter to the data available at the start of the 2002 season\n",
    "moneyball = baseball.where(baseball.numberColumn(\"year\").isLessThan(2002));\n",
    "wins = moneyball.nCol(\"W\");\n",
    "year = moneyball.nCol(\"Year\");\n",
    "playoffs = moneyball.column(\"Playoffs\");\n",
    "runDifference = moneyball.numberColumn(\"RS\").subtract(moneyball.numberColumn(\"RA\")).setName(\"RD\");\n",
    "moneyball.addColumns(runDifference);\n",
    "\n",
    "def Plot = new Plot(title: \"RD x Wins\", xLabel:\"RD\", yLabel: \"W\")\n",
    "Plot << new Points(x: moneyball.numberColumn(\"RD\").asDoubleArray(), y: moneyball.numberColumn(\"W\").asDoubleArray())"
   ]
  },
  {
   "cell_type": "code",
   "execution_count": 66,
   "metadata": {},
   "outputs": [
    {
     "data": {
      "text/plain": [
       "Linear Model:\n",
       "\n",
       "Residuals:\n",
       "\t       Min\t        1Q\t    Median\t        3Q\t       Max\n",
       "\t -115.1010\t  -24.7084\t   -0.8748\t   23.9474\t  110.2269\n",
       "\n",
       "Coefficients:\n",
       "            Estimate        Std. Error        t value        Pr(>|t|)\n",
       "Intercept  -673.5757            8.3409       -80.7558          0.0000 ***\n",
       "W\t      8.3279            0.1021        81.5536          0.0000 ***\n",
       "---------------------------------------------------------------------\n",
       "Significance codes:  0 '***' 0.001 '**' 0.01 '*' 0.05 '.' 0.1 ' ' 1\n",
       "\n",
       "Residual standard error: 34.9536 on 900 degrees of freedom\n",
       "Multiple R-squared: 0.8808,    Adjusted R-squared: 0.8807\n",
       "F-statistic: 6650.9926 on 1 and 900 DF,  p-value: 0.000\n"
      ]
     },
     "execution_count": 66,
     "metadata": {},
     "output_type": "execute_result"
    }
   ],
   "source": [
    "winsModel = new OLS(moneyball.select(\"W\", \"RD\").smile().numericDataset(\"RD\"));"
   ]
  },
  {
   "cell_type": "code",
   "execution_count": 67,
   "metadata": {},
   "outputs": [
    {
     "data": {
      "text/plain": [
       "Linear Model:\n",
       "\n",
       "Residuals:\n",
       "\t       Min\t        1Q\t    Median\t        3Q\t       Max\n",
       "\t  -70.8379\t  -17.1810\t   -1.0917\t   16.7812\t   90.0358\n",
       "\n",
       "Coefficients:\n",
       "            Estimate        Std. Error        t value        Pr(>|t|)\n",
       "Intercept  -804.6271           18.9208       -42.5261          0.0000 ***\n",
       "OBP\t   2737.7682           90.6846        30.1900          0.0000 ***\n",
       "SLG\t   1584.9085           42.1556        37.5966          0.0000 ***\n",
       "---------------------------------------------------------------------\n",
       "Significance codes:  0 '***' 0.001 '**' 0.01 '*' 0.05 '.' 0.1 ' ' 1\n",
       "\n",
       "Residual standard error: 24.7900 on 899 degrees of freedom\n",
       "Multiple R-squared: 0.9296,    Adjusted R-squared: 0.9294\n",
       "F-statistic: 5933.7256 on 2 and 899 DF,  p-value: 0.000\n"
      ]
     },
     "execution_count": 67,
     "metadata": {},
     "output_type": "execute_result"
    }
   ],
   "source": [
    "runsScored = new OLS(moneyball.select(\"OBP\", \"SLG\", \"RS\").smile().numericDataset(\"RS\"));"
   ]
  },
  {
   "cell_type": "code",
   "execution_count": 68,
   "metadata": {},
   "outputs": [
    {
     "data": {
      "application/vnd.jupyter.widget-view+json": {
       "model_id": "543e135b-9bdf-4bef-8c56-59d0f74bea4a",
       "version_major": 2,
       "version_minor": 0
      },
      "method": "display_data"
     },
     "metadata": {},
     "output_type": "display_data"
    }
   ],
   "source": [
    "new Histogram(xLabel:\"X\",\n",
    "              yLabel:\"Proportion\",\n",
    "              data: Arrays.asList(runsScored.residuals()),\n",
    "              binCount: 25);"
   ]
  },
  {
   "cell_type": "markdown",
   "metadata": {},
   "source": [
    "## Financial and Economic Data\n",
    "\n",
    "You can fetch data from [Quandl](https://www.quandl.com/) and load it directly into Tablesaw"
   ]
  },
  {
   "cell_type": "code",
   "execution_count": 69,
   "metadata": {
    "collapsed": true
   },
   "outputs": [],
   "source": [
    "%import com.jimmoores.quandl.*\n",
    "%import com.jimmoores.quandl.tablesaw.*"
   ]
  },
  {
   "cell_type": "code",
   "execution_count": 70,
   "metadata": {},
   "outputs": [
    {
     "data": {
      "application/vnd.jupyter.widget-view+json": {
       "model_id": "98069670-b025-4d3a-9a5a-42b7653cb6ad",
       "version_major": 2,
       "version_minor": 0
      },
      "method": "display_data"
     },
     "metadata": {},
     "output_type": "display_data"
    }
   ],
   "source": [
    "TableSawQuandlSession session = TableSawQuandlSession.create();\n",
    "Table table = session.getDataSet(DataSetRequest.Builder.of(\"WIKI/AAPL\").build());\n",
    "// Create a new column containing the year\n",
    "NumberColumn yearColumn = table.dateColumn(\"Date\").year();\n",
    "yearColumn.setName(\"Year\");\n",
    "table.addColumns(yearColumn);\n",
    "// Create max, min and total volume tables aggregated by year\n",
    "Table summaryMax = table.summarize(\"Adj. Close\", max).by(\"year\");\n",
    "Table summaryMin = table.summarize(\"Adj. Close\", min).by(\"year\");\n",
    "Table summaryVolume = table.summarize(\"Volume\", sum).by(\"year\");\n",
    "// Create a new table from each of these\n",
    "summary = Table.create(\"Summary\", summaryMax.column(0), summaryMax.column(1), \n",
    "                       summaryMin.column(1), summaryVolume.column(1));\n",
    "// Add back a DateColumn to the summary...will be used for plotting\n",
    "DateColumn yearDates = DateColumn.create(\"YearDate\");\n",
    "for (year in summary.column('Year')) {\n",
    "    yearDates.append(java.time.LocalDate.of((int) year, 1, 1));\n",
    "}\n",
    "summary.addColumns(yearDates)\n",
    "\n",
    "summary"
   ]
  },
  {
   "cell_type": "code",
   "execution_count": 71,
   "metadata": {},
   "outputs": [
    {
     "data": {
      "application/vnd.jupyter.widget-view+json": {
       "model_id": "89d150c5-9924-42eb-b23a-454ada1e0e77",
       "version_major": 2,
       "version_minor": 0
      },
      "method": "display_data"
     },
     "metadata": {},
     "output_type": "display_data"
    }
   ],
   "source": [
    "years = summary.column('YearDate').collect()\n",
    "\n",
    "plot = new TimePlot(title: 'Price Chart for AAPL', xLabel: 'Time', yLabel: 'Max [Adj. Close]')\n",
    "plot << new YAxis(label: 'Volume')\n",
    "plot << new Points(x: years, y: summary.column('Max [Adj. Close]').collect())\n",
    "plot << new Line(x: years, y: summary.column('Max [Adj. Close]').collect(), color: Color.blue)\n",
    "plot << new Stems(x: years, y: summary.column('Sum [Volume]').collect(), yAxis: 'Volume')"
   ]
  },
  {
   "cell_type": "code",
   "execution_count": null,
   "metadata": {
    "collapsed": true
   },
   "outputs": [],
   "source": []
  }
 ],
 "metadata": {
  "anaconda-cloud": {},
  "kernelspec": {
   "display_name": "Groovy",
   "language": "groovy",
   "name": "groovy"
  },
  "language_info": {
   "codemirror_mode": "groovy",
   "file_extension": ".groovy",
   "mimetype": "",
   "name": "Groovy",
   "nbconverter_exporter": "",
   "version": "2.4.3"
  },
  "toc": {
   "base_numbering": 1,
   "nav_menu": {},
   "number_sections": false,
   "sideBar": false,
   "skip_h1_title": false,
   "title_cell": "Table of Contents",
   "title_sidebar": "Contents",
   "toc_cell": false,
   "toc_position": {},
   "toc_section_display": false,
   "toc_window_display": false
  }
 },
 "nbformat": 4,
 "nbformat_minor": 2
}
